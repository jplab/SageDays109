{
 "cells": [
  {
   "cell_type": "markdown",
   "metadata": {},
   "source": [
    "# Combinatorial Polyhedron\n",
    "\n",
    "## Motivation\n",
    "\n",
    "Given one of Vrepresentation or Hrepresentation it can be a challenging part to determine the other.\n",
    "Luckily, there are wonderful backends that take care of it.\n",
    "\n",
    "The double description also gives access to the vertex-facet incidences.\n",
    "So it should be easy to determine all the related stuff:\n",
    "\n",
    "- $f$-vector,\n",
    "- the vertex graph,\n",
    "- the facet graph,\n",
    "- $n$-dimensional faces,\n",
    "- simplicity/simpliciality,\n",
    "- flag-$f$-vector,\n",
    "- the face lattice.\n",
    "\n",
    "Right?\n",
    "\n",
    "Until recently, any attribute on this list was obtained by the face lattice.\n",
    "Well, the face lattice can be huge."
   ]
  },
  {
   "cell_type": "code",
   "execution_count": 1,
   "metadata": {},
   "outputs": [
    {
     "name": "stdout",
     "output_type": "stream",
     "text": [
      "CPU times: user 22.3 s, sys: 39.8 ms, total: 22.3 s\n",
      "Wall time: 22.3 s\n"
     ]
    },
    {
     "data": {
      "text/plain": [
       "Finite lattice containing 4684 elements with distinguished linear extension (use the .plot() method to plot)"
      ]
     },
     "execution_count": 1,
     "metadata": {},
     "output_type": "execute_result"
    }
   ],
   "source": [
    "P = polytopes.permutahedron(6)\n",
    "%time P.face_lattice()"
   ]
  },
  {
   "cell_type": "markdown",
   "metadata": {},
   "source": [
    "This means, everytime you wanted any such information of a polytope of this complexity you had to wait 15 seconds.\n",
    "\n",
    "No need to mention, that you couldn't deal with large polytopes. No chance you could verify the $20$-dimensional counterexample to the Hirsch conjecture of B. Matschke, F. Santos and C. Weibel with $40$ facets and $36,425$ vertices by calculating the diameter of its graph (see [arXiv:1202.4701](https://arxiv.org/abs/1202.4701)).\n",
    "\n",
    "With the `CombinatorialPolyhedron` class there is a better implementation of the face lattice, yet to be exposed:"
   ]
  },
  {
   "cell_type": "code",
   "execution_count": 2,
   "metadata": {},
   "outputs": [
    {
     "name": "stdout",
     "output_type": "stream",
     "text": [
      "CPU times: user 593 ms, sys: 4.01 ms, total: 597 ms\n",
      "Wall time: 597 ms\n"
     ]
    },
    {
     "data": {
      "text/plain": [
       "Finite lattice containing 4684 elements (use the .plot() method to plot)"
      ]
     },
     "execution_count": 2,
     "metadata": {},
     "output_type": "execute_result"
    }
   ],
   "source": [
    "P = polytopes.permutahedron(6)\n",
    "%time P.combinatorial_polyhedron().face_lattice()"
   ]
  },
  {
   "cell_type": "markdown",
   "metadata": {},
   "source": [
    "But that's not the point. Many of the above attributes (and probably others) can be obtained without obtaining the full face lattice.\n",
    "\n"
   ]
  },
  {
   "cell_type": "code",
   "execution_count": 3,
   "metadata": {},
   "outputs": [
    {
     "name": "stdout",
     "output_type": "stream",
     "text": [
      "CPU times: user 117 ms, sys: 0 ns, total: 117 ms\n",
      "Wall time: 117 ms\n"
     ]
    },
    {
     "data": {
      "text/plain": [
       "(1, 720, 1800, 1560, 540, 62, 1)"
      ]
     },
     "execution_count": 3,
     "metadata": {},
     "output_type": "execute_result"
    }
   ],
   "source": [
    "P = polytopes.permutahedron(6)\n",
    "%time P.f_vector()"
   ]
  },
  {
   "cell_type": "markdown",
   "metadata": {},
   "source": [
    "Even better, we know have access to an iterator. You can iterate through the faces of a polyhedron with almost no overhead memory usage.\n",
    "\n",
    "## Input\n",
    "\n",
    "`CombinatorialPolyhedron` takes as input (amongst others) one of the following:\n",
    "\n",
    "- a polyhedron,\n",
    "- a lattice polytopes,\n",
    "- a cone,\n",
    "- an incidence matrix,\n",
    "- a list of facets, each facet given as list of vertices/rays/lines.\n",
    "\n",
    "The following example uses the new library of common cones:"
   ]
  },
  {
   "cell_type": "code",
   "execution_count": 4,
   "metadata": {},
   "outputs": [
    {
     "data": {
      "text/plain": [
       "A 8-dimensional combinatorial polyhedron with 56 facets"
      ]
     },
     "execution_count": 4,
     "metadata": {},
     "output_type": "execute_result"
    }
   ],
   "source": [
    "C = CombinatorialPolyhedron(cones.rearrangement(3, 8)); C"
   ]
  },
  {
   "cell_type": "code",
   "execution_count": 5,
   "metadata": {},
   "outputs": [
    {
     "name": "stdout",
     "output_type": "stream",
     "text": [
      "CPU times: user 1.38 ms, sys: 0 ns, total: 1.38 ms\n",
      "Wall time: 1.39 ms\n"
     ]
    },
    {
     "data": {
      "text/plain": [
       "(1, 1, 16, 112, 392, 770, 840, 420, 56, 1)"
      ]
     },
     "execution_count": 5,
     "metadata": {},
     "output_type": "execute_result"
    }
   ],
   "source": [
    "%time C.f_vector()"
   ]
  },
  {
   "cell_type": "markdown",
   "metadata": {},
   "source": [
    "## The $f$-vector\n",
    "\n",
    "To count the number of faces in each dimension, we can utilize a face iterator.\n",
    "\n",
    "The implementation in sage is the only memory efficient implementation and it is at least as fast any other implementation. It can be parallized without overhead (on-going development) and there are some further significant improvements.\n",
    "\n",
    "Here are some benchmarks:"
   ]
  },
  {
   "cell_type": "code",
   "execution_count": 6,
   "metadata": {},
   "outputs": [
    {
     "name": "stdout",
     "output_type": "stream",
     "text": [
      "CPU times: user 2.12 s, sys: 11.9 ms, total: 2.13 s\n",
      "Wall time: 2.12 s\n"
     ]
    },
    {
     "data": {
      "text/plain": [
       "(1, 25, 300, 2300, 12650, 53130, 177100, 480700, 1081575, 2042975, 3268760, 4457400, 5200300, 5200300, 4457400, 3268760, 2042975, 1081575, 480700, 177100, 53130, 12650, 2300, 300, 25, 1)"
      ]
     },
     "execution_count": 6,
     "metadata": {},
     "output_type": "execute_result"
    }
   ],
   "source": [
    "P = polytopes.simplex(24)\n",
    "_ = P.incidence_matrix()\n",
    "%time P.f_vector()"
   ]
  },
  {
   "cell_type": "markdown",
   "metadata": {},
   "source": [
    "Yes it is trivial. However, this is the first simplex that `polymake` cannot handle with 30 GB of RAM.\n",
    "`normaliz` needs about 40 seconds parallized on 8 threads (4 cores, hyperthreading)."
   ]
  },
  {
   "cell_type": "code",
   "execution_count": 7,
   "metadata": {},
   "outputs": [
    {
     "name": "stdout",
     "output_type": "stream",
     "text": [
      "CPU times: user 24.2 s, sys: 296 ms, total: 24.5 s\n",
      "Wall time: 24.5 s\n"
     ]
    },
    {
     "data": {
      "text/plain": [
       "(1, 58786, 293930, 629850, 755820, 556920, 259896, 76440, 13650, 1365, 65, 1)"
      ]
     },
     "execution_count": 7,
     "metadata": {},
     "output_type": "execute_result"
    }
   ],
   "source": [
    "P = polytopes.associahedron(['A', 10] , backend='normaliz')\n",
    "_ = P.incidence_matrix()\n",
    "%time P.f_vector()"
   ]
  },
  {
   "cell_type": "markdown",
   "metadata": {},
   "source": [
    "`polymake` needs more than 7 hours for this. `normaliz` only 16 seconds (8 threads on 4 cores).\n",
    "However, sorting the vertices to most significant first, we can speed up by a factor of $2$.\n",
    "With the ongoing improvements, `sage` will be able to do it in about a second."
   ]
  },
  {
   "cell_type": "code",
   "execution_count": 8,
   "metadata": {},
   "outputs": [
    {
     "name": "stdout",
     "output_type": "stream",
     "text": [
      "CPU times: user 537 ms, sys: 3.96 ms, total: 541 ms\n",
      "Wall time: 540 ms\n"
     ]
    },
    {
     "data": {
      "text/plain": [
       "(1, 120, 5040, 50250, 233400, 631700, 1113700, 1367040, 1220550, 817150, 419225, 167200, 52120, 12600, 2300, 300, 25, 1)"
      ]
     },
     "execution_count": 8,
     "metadata": {},
     "output_type": "execute_result"
    }
   ],
   "source": [
    "P = polytopes.Birkhoff_polytope(5, backend='normaliz')\n",
    "_ = P.incidence_matrix()\n",
    "%time P.f_vector()"
   ]
  },
  {
   "cell_type": "code",
   "execution_count": 9,
   "metadata": {},
   "outputs": [
    {
     "name": "stdout",
     "output_type": "stream",
     "text": [
      "CPU times: user 50.5 s, sys: 604 ms, total: 51.1 s\n",
      "Wall time: 16.9 s\n"
     ]
    },
    {
     "data": {
      "text/plain": [
       "[1,\n",
       " 120,\n",
       " 5040,\n",
       " 50250,\n",
       " 233400,\n",
       " 631700,\n",
       " 1113700,\n",
       " 1367040,\n",
       " 1220550,\n",
       " 817150,\n",
       " 419225,\n",
       " 167200,\n",
       " 52120,\n",
       " 12600,\n",
       " 2300,\n",
       " 300,\n",
       " 25,\n",
       " 1]"
      ]
     },
     "execution_count": 9,
     "metadata": {},
     "output_type": "execute_result"
    }
   ],
   "source": [
    "import PyNormaliz\n",
    "c = P._normaliz_cone\n",
    "%time PyNormaliz.NmzResult(c, \"FVector\")"
   ]
  },
  {
   "cell_type": "markdown",
   "metadata": {},
   "source": [
    "Note that this is run on my laptop with only 2 cores. With 4 cores `normaliz` needs about 8 seconds. `polymake` needs almost 6 minutes.\n",
    "\n",
    "Neither `normaliz` nor \n",
    "\n",
    "Taking the $25$-dimensional $6$-Birkhoff polytope both `normaliz` and `polymake` need more than $30$ GB of RAM. Sage needs currently about 45 minutes and much less memory:"
   ]
  },
  {
   "cell_type": "code",
   "execution_count": 1,
   "metadata": {},
   "outputs": [
    {
     "name": "stdout",
     "output_type": "stream",
     "text": [
      "Total memory:  48.3828125 \n",
      "Memory of FaceIterator:  15.80078125\n"
     ]
    }
   ],
   "source": [
    "start = get_memory_usage()\n",
    "P = polytopes.Birkhoff_polytope(6)\n",
    "_ = P.incidence_matrix()\n",
    "intermediate = get_memory_usage()\n",
    "it = P.face_generator()\n",
    "for _ in range(10000):\n",
    "    a = next(it)\n",
    "end = get_memory_usage()\n",
    "print(\"Total memory: \", end - start, \"\\nMemory of FaceIterator: \", end - intermediate)"
   ]
  },
  {
   "cell_type": "markdown",
   "metadata": {},
   "source": [
    "## Vertex graph/facet graph"
   ]
  },
  {
   "cell_type": "code",
   "execution_count": 5,
   "metadata": {},
   "outputs": [
    {
     "name": "stdout",
     "output_type": "stream",
     "text": [
      "CPU times: user 106 ms, sys: 0 ns, total: 106 ms\n",
      "Wall time: 106 ms\n"
     ]
    },
    {
     "data": {
      "text/plain": [
       "Graph on 1024 vertices (use the .plot() method to plot)"
      ]
     },
     "execution_count": 5,
     "metadata": {},
     "output_type": "execute_result"
    }
   ],
   "source": [
    "P = polytopes.hypercube(10)\n",
    "C = P.combinatorial_polyhedron()\n",
    "%time C.vertex_graph(names=False)"
   ]
  },
  {
   "cell_type": "code",
   "execution_count": 6,
   "metadata": {},
   "outputs": [
    {
     "name": "stdout",
     "output_type": "stream",
     "text": [
      "CPU times: user 2.16 ms, sys: 0 ns, total: 2.16 ms\n",
      "Wall time: 2.17 ms\n"
     ]
    },
    {
     "data": {
      "text/plain": [
       "Graph on 21 vertices (use the .plot() method to plot)"
      ]
     },
     "execution_count": 6,
     "metadata": {},
     "output_type": "execute_result"
    }
   ],
   "source": [
    "%time C.facet_graph(names=False)"
   ]
  },
  {
   "cell_type": "markdown",
   "metadata": {},
   "source": [
    "The vertex graph is exposed in `Polyhedron_base`, however only with the graph having the actual vertices as labels. This is much slower:"
   ]
  },
  {
   "cell_type": "code",
   "execution_count": 7,
   "metadata": {},
   "outputs": [
    {
     "name": "stdout",
     "output_type": "stream",
     "text": [
      "CPU times: user 3.56 s, sys: 3.91 ms, total: 3.57 s\n",
      "Wall time: 3.56 s\n"
     ]
    },
    {
     "data": {
      "text/plain": [
       "Graph on 1024 vertices (use the .plot() method to plot)"
      ]
     },
     "execution_count": 7,
     "metadata": {},
     "output_type": "execute_result"
    }
   ],
   "source": [
    "%time P.vertex_graph()"
   ]
  },
  {
   "cell_type": "markdown",
   "metadata": {},
   "source": [
    "## $n$-dimensional faces\n",
    "\n",
    "The main feature of combinatorial polyhedron is a face iterator:"
   ]
  },
  {
   "cell_type": "code",
   "execution_count": 11,
   "metadata": {},
   "outputs": [
    {
     "name": "stdout",
     "output_type": "stream",
     "text": [
      "CPU times: user 121 µs, sys: 0 ns, total: 121 µs\n",
      "Wall time: 124 µs\n"
     ]
    },
    {
     "data": {
      "text/plain": [
       "A 5-dimensional face of a 14-dimensional combinatorial polyhedron"
      ]
     },
     "execution_count": 11,
     "metadata": {},
     "output_type": "execute_result"
    }
   ],
   "source": [
    "P = polytopes.hypercube(14, backend='field')\n",
    "C = P.combinatorial_polyhedron()\n",
    "it = C.face_iter(dimension=5)\n",
    "%time next(it)"
   ]
  },
  {
   "cell_type": "markdown",
   "metadata": {},
   "source": [
    "Not specifying the dimension, the iterator will walk through all proper faces:"
   ]
  },
  {
   "cell_type": "code",
   "execution_count": 12,
   "metadata": {},
   "outputs": [
    {
     "name": "stdout",
     "output_type": "stream",
     "text": [
      "A 2-dimensional face of a 3-dimensional combinatorial polyhedron\n",
      "A 2-dimensional face of a 3-dimensional combinatorial polyhedron\n",
      "A 2-dimensional face of a 3-dimensional combinatorial polyhedron\n",
      "A 2-dimensional face of a 3-dimensional combinatorial polyhedron\n",
      "A 1-dimensional face of a 3-dimensional combinatorial polyhedron\n",
      "A 1-dimensional face of a 3-dimensional combinatorial polyhedron\n",
      "A 1-dimensional face of a 3-dimensional combinatorial polyhedron\n",
      "A 0-dimensional face of a 3-dimensional combinatorial polyhedron\n",
      "A 0-dimensional face of a 3-dimensional combinatorial polyhedron\n",
      "A 0-dimensional face of a 3-dimensional combinatorial polyhedron\n",
      "A 1-dimensional face of a 3-dimensional combinatorial polyhedron\n",
      "A 1-dimensional face of a 3-dimensional combinatorial polyhedron\n",
      "A 0-dimensional face of a 3-dimensional combinatorial polyhedron\n",
      "A 1-dimensional face of a 3-dimensional combinatorial polyhedron\n"
     ]
    }
   ],
   "source": [
    "C = polytopes.simplex().combinatorial_polyhedron()\n",
    "for i in C.face_iter(): print(i)"
   ]
  },
  {
   "cell_type": "code",
   "execution_count": 13,
   "metadata": {},
   "outputs": [
    {
     "data": {
      "text/plain": [
       "[A 0-dimensional face of a 3-dimensional combinatorial polyhedron,\n",
       " A 0-dimensional face of a 3-dimensional combinatorial polyhedron,\n",
       " A 0-dimensional face of a 3-dimensional combinatorial polyhedron,\n",
       " A 0-dimensional face of a 3-dimensional combinatorial polyhedron,\n",
       " A 0-dimensional face of a 3-dimensional combinatorial polyhedron,\n",
       " A 0-dimensional face of a 3-dimensional combinatorial polyhedron,\n",
       " A 1-dimensional face of a 3-dimensional combinatorial polyhedron,\n",
       " A 1-dimensional face of a 3-dimensional combinatorial polyhedron,\n",
       " A 1-dimensional face of a 3-dimensional combinatorial polyhedron,\n",
       " A 1-dimensional face of a 3-dimensional combinatorial polyhedron,\n",
       " A 2-dimensional face of a 3-dimensional combinatorial polyhedron,\n",
       " A 2-dimensional face of a 3-dimensional combinatorial polyhedron,\n",
       " A 2-dimensional face of a 3-dimensional combinatorial polyhedron,\n",
       " A 2-dimensional face of a 3-dimensional combinatorial polyhedron,\n",
       " A 1-dimensional face of a 3-dimensional combinatorial polyhedron,\n",
       " A 1-dimensional face of a 3-dimensional combinatorial polyhedron,\n",
       " A 1-dimensional face of a 3-dimensional combinatorial polyhedron,\n",
       " A 2-dimensional face of a 3-dimensional combinatorial polyhedron,\n",
       " A 2-dimensional face of a 3-dimensional combinatorial polyhedron,\n",
       " A 1-dimensional face of a 3-dimensional combinatorial polyhedron]"
      ]
     },
     "execution_count": 13,
     "metadata": {},
     "output_type": "execute_result"
    }
   ],
   "source": [
    "C = polytopes.cross_polytope(3).combinatorial_polyhedron()\n",
    "it = C.face_iter()\n",
    "[next(it) for _ in range(20)]"
   ]
  },
  {
   "cell_type": "markdown",
   "metadata": {},
   "source": [
    "Depending on the number of vertices/facets the iterator will automatically pick wether to start from the vertices or facets (for performance reasons).\n",
    "\n",
    "However, you can force the behaviour:"
   ]
  },
  {
   "cell_type": "code",
   "execution_count": 14,
   "metadata": {},
   "outputs": [
    {
     "data": {
      "text/plain": [
       "[A 2-dimensional face of a 3-dimensional combinatorial polyhedron,\n",
       " A 2-dimensional face of a 3-dimensional combinatorial polyhedron,\n",
       " A 2-dimensional face of a 3-dimensional combinatorial polyhedron,\n",
       " A 2-dimensional face of a 3-dimensional combinatorial polyhedron,\n",
       " A 2-dimensional face of a 3-dimensional combinatorial polyhedron,\n",
       " A 2-dimensional face of a 3-dimensional combinatorial polyhedron,\n",
       " A 2-dimensional face of a 3-dimensional combinatorial polyhedron,\n",
       " A 2-dimensional face of a 3-dimensional combinatorial polyhedron,\n",
       " A 1-dimensional face of a 3-dimensional combinatorial polyhedron,\n",
       " A 1-dimensional face of a 3-dimensional combinatorial polyhedron]"
      ]
     },
     "execution_count": 14,
     "metadata": {},
     "output_type": "execute_result"
    }
   ],
   "source": [
    "it = C.face_iter(dual=False)\n",
    "[next(it) for _ in range(10)]"
   ]
  },
  {
   "cell_type": "markdown",
   "metadata": {},
   "source": [
    "Each combinatorial face comes with methods similar to polyhedral faces."
   ]
  },
  {
   "cell_type": "code",
   "execution_count": 15,
   "metadata": {},
   "outputs": [
    {
     "data": {
      "text/plain": [
       "[(1, 2),\n",
       " 2,\n",
       " (An inequality (1, 1, 1) x + 1 >= 0, An inequality (-1, 1, 1) x + 1 >= 0)]"
      ]
     },
     "execution_count": 15,
     "metadata": {},
     "output_type": "execute_result"
    }
   ],
   "source": [
    "f = next(it)\n",
    "[f.ambient_V_indices(), f.n_ambient_Hrepresentation(), f.ambient_Hrepresentation()]"
   ]
  },
  {
   "cell_type": "markdown",
   "metadata": {},
   "source": [
    "The face iterator can be manipulated to ignore all subfaces of the current faces in non-dual mode (in dual mode ignore all supfaces). So whenever you see a face and you already know that subfaces are of no interest, then you can spare the time of iterating over them.\n",
    "\n",
    "A demonstration of with more details is given on [ask.sagemath.org](https://ask.sagemath.org/question/34485/what-is-the-most-efficient-way-to-look-up-a-face-in-the-face-lattice-of-a-polyhedron/?answer=50965#post-id-50965).\n",
    "\n",
    "`Polyhedron_base` now uses the face iterator for the following methods: `faces`, `face_generator`.\n",
    "\n",
    "For details of the algorithm see [arXiv:1905.01945](https://arxiv.org/abs/1905.01945)\n",
    "(joint work with Christian Stump)."
   ]
  },
  {
   "cell_type": "markdown",
   "metadata": {},
   "source": [
    "## Simplicity/simpliciality\n",
    "\n",
    "A polyhedron is $k$-simplicial if every $k$-face is a simplex.\n",
    "A polyhedron is $k$-simple, if its dual is $k$-simplicial.\n",
    "\n",
    "This can be tested quickly, using the face iterator:"
   ]
  },
  {
   "cell_type": "code",
   "execution_count": 16,
   "metadata": {},
   "outputs": [
    {
     "name": "stdout",
     "output_type": "stream",
     "text": [
      "CPU times: user 126 ms, sys: 17 µs, total: 126 ms\n",
      "Wall time: 126 ms\n"
     ]
    },
    {
     "data": {
      "text/plain": [
       "2"
      ]
     },
     "execution_count": 16,
     "metadata": {},
     "output_type": "execute_result"
    }
   ],
   "source": [
    "P = polytopes.hypersimplex(12,5)\n",
    "%time P.simpliciality()"
   ]
  },
  {
   "cell_type": "code",
   "execution_count": 17,
   "metadata": {},
   "outputs": [
    {
     "name": "stdout",
     "output_type": "stream",
     "text": [
      "CPU times: user 130 ms, sys: 0 ns, total: 130 ms\n",
      "Wall time: 130 ms\n"
     ]
    },
    {
     "data": {
      "text/plain": [
       "9"
      ]
     },
     "execution_count": 17,
     "metadata": {},
     "output_type": "execute_result"
    }
   ],
   "source": [
    "P = polytopes.hypersimplex(12,5)\n",
    "%time P.simplicity()"
   ]
  },
  {
   "cell_type": "markdown",
   "metadata": {},
   "source": [
    "## Face lattice and flag-$f$-vector\n",
    "\n",
    "Finally, if you really want or need to, you can obtain the face lattice.\n",
    "\n",
    "\n",
    "\n",
    "\n",
    "This is used to determine e.g. the flag-$f$-vector."
   ]
  },
  {
   "cell_type": "code",
   "execution_count": 18,
   "metadata": {},
   "outputs": [
    {
     "name": "stdout",
     "output_type": "stream",
     "text": [
      "CPU times: user 6.44 s, sys: 27.9 ms, total: 6.47 s\n",
      "Wall time: 6.46 s\n"
     ]
    },
    {
     "data": {
      "text/plain": [
       "Finite lattice containing 47294 elements (use the .plot() method to plot)"
      ]
     },
     "execution_count": 18,
     "metadata": {},
     "output_type": "execute_result"
    }
   ],
   "source": [
    "C = polytopes.permutahedron(7).combinatorial_polyhedron()\n",
    "%time C.face_lattice()"
   ]
  },
  {
   "cell_type": "markdown",
   "metadata": {},
   "source": [
    "Currently, this is used only to obtain the flag-$f$-vector:"
   ]
  },
  {
   "cell_type": "code",
   "execution_count": 19,
   "metadata": {},
   "outputs": [
    {
     "data": {
      "text/plain": [
       "64"
      ]
     },
     "execution_count": 19,
     "metadata": {},
     "output_type": "execute_result"
    }
   ],
   "source": [
    "polytopes.hypercube(4).flag_f_vector(0,3)"
   ]
  },
  {
   "cell_type": "code",
   "execution_count": null,
   "metadata": {},
   "outputs": [],
   "source": []
  }
 ],
 "metadata": {
  "celltoolbar": "Raw Cell Format",
  "kernelspec": {
   "display_name": "SageMath 9.1",
   "language": "sage",
   "name": "sagemath"
  },
  "language_info": {
   "codemirror_mode": {
    "name": "ipython",
    "version": 3
   },
   "file_extension": ".py",
   "mimetype": "text/x-python",
   "name": "python",
   "nbconvert_exporter": "python",
   "pygments_lexer": "ipython3",
   "version": "3.7.3"
  }
 },
 "nbformat": 4,
 "nbformat_minor": 2
}
