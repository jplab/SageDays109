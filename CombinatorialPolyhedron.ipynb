{
 "cells": [
  {
   "cell_type": "markdown",
   "metadata": {
    "slideshow": {
     "slide_type": "slide"
    }
   },
   "source": [
    "# Combinatorial Polyhedra and development of geometric Polyhedra in Sage\n",
    "\n",
    "## Combinatorial Polyhedron\n"
   ]
  },
  {
   "cell_type": "markdown",
   "metadata": {
    "slideshow": {
     "slide_type": "subslide"
    }
   },
   "source": [
    "### Motivation\n",
    "\n",
    "Backends compute the double description  \n",
    "-> vertex-facet incidences\n",
    "\n",
    "The following should be easy. Right?\n",
    "- $f$-vector,\n",
    "- the vertex graph,\n",
    "- the facet graph,\n",
    "- ($n$-dimensional) faces,\n",
    "- simplicity/simpliciality,\n",
    "- flag-$f$-vector,\n",
    "- the face lattice."
   ]
  },
  {
   "cell_type": "markdown",
   "metadata": {
    "slideshow": {
     "slide_type": "subslide"
    }
   },
   "source": [
    "Well, the face lattice can be huge."
   ]
  },
  {
   "cell_type": "code",
   "execution_count": 2,
   "metadata": {},
   "outputs": [
    {
     "name": "stdout",
     "output_type": "stream",
     "text": [
      "CPU times: user 15.4 s, sys: 2.48 ms, total: 15.4 s\n",
      "Wall time: 15.4 s\n"
     ]
    },
    {
     "data": {
      "text/plain": [
       "Finite lattice containing 4684 elements with distinguished linear extension (use the .plot() method to plot)"
      ]
     },
     "execution_count": 2,
     "metadata": {},
     "output_type": "execute_result"
    }
   ],
   "source": [
    "P = polytopes.permutahedron(6)\n",
    "%time P.face_lattice()"
   ]
  },
  {
   "cell_type": "markdown",
   "metadata": {},
   "source": [
    "Not long ago, the list was handled by the face lattice.\n",
    "\n",
    "### Example:\n",
    "\n",
    "Hirsch conjecture counterexample of Matschke, Santos, Weibel ([arXiv:1202.4701](https://arxiv.org/abs/1202.4701)).\n",
    "\n",
    "### (Was) Impossible!\n",
    "\n",
    "$20$-dimensional, $40$ facets, $36425$ vertices"
   ]
  },
  {
   "cell_type": "markdown",
   "metadata": {
    "slideshow": {
     "slide_type": "subslide"
    }
   },
   "source": [
    "`CombinatorialPolyhedron` is faster (not yet exposed):"
   ]
  },
  {
   "cell_type": "code",
   "execution_count": 13,
   "metadata": {},
   "outputs": [
    {
     "name": "stdout",
     "output_type": "stream",
     "text": [
      "CPU times: user 492 ms, sys: 0 ns, total: 492 ms\n",
      "Wall time: 504 ms\n"
     ]
    },
    {
     "data": {
      "text/plain": [
       "Finite lattice containing 4684 elements (use the .plot() method to plot)"
      ]
     },
     "execution_count": 13,
     "metadata": {},
     "output_type": "execute_result"
    }
   ],
   "source": [
    "P = polytopes.permutahedron(6)\n",
    "%time P.combinatorial_polyhedron().face_lattice()"
   ]
  },
  {
   "cell_type": "markdown",
   "metadata": {},
   "source": [
    "But it also avoids the face lattice."
   ]
  },
  {
   "cell_type": "code",
   "execution_count": 3,
   "metadata": {},
   "outputs": [
    {
     "name": "stdout",
     "output_type": "stream",
     "text": [
      "CPU times: user 117 ms, sys: 3.67 ms, total: 121 ms\n",
      "Wall time: 123 ms\n"
     ]
    },
    {
     "data": {
      "text/plain": [
       "(1, 720, 1800, 1560, 540, 62, 1)"
      ]
     },
     "execution_count": 3,
     "metadata": {},
     "output_type": "execute_result"
    }
   ],
   "source": [
    "P = polytopes.permutahedron(6)\n",
    "_ = P.incidence_matrix()\n",
    "%time P.f_vector()"
   ]
  },
  {
   "cell_type": "markdown",
   "metadata": {
    "slideshow": {
     "slide_type": "slide"
    }
   },
   "source": [
    "## Input of `CombinatorialPolyhedron`\n",
    "\n",
    "- a polyhedron,\n",
    "- a lattice polytopes,\n",
    "- a cone,\n",
    "- an incidence matrix,\n",
    "- a list of facets, each facet given as list of vertices/rays/lines."
   ]
  },
  {
   "cell_type": "code",
   "execution_count": 17,
   "metadata": {},
   "outputs": [
    {
     "data": {
      "text/plain": [
       "A 8-dimensional combinatorial polyhedron with 56 facets"
      ]
     },
     "execution_count": 17,
     "metadata": {},
     "output_type": "execute_result"
    }
   ],
   "source": [
    "CombinatorialPolyhedron(cones.rearrangement(3, 8))  # new cone library in 9.1"
   ]
  },
  {
   "cell_type": "code",
   "execution_count": 18,
   "metadata": {},
   "outputs": [
    {
     "data": {
      "text/plain": [
       "A 3-dimensional combinatorial polyhedron with 4 facets"
      ]
     },
     "execution_count": 18,
     "metadata": {},
     "output_type": "execute_result"
    }
   ],
   "source": [
    "CombinatorialPolyhedron([[0,1,2], [0,1,3], [0,2,3], [1,2,3]])"
   ]
  },
  {
   "cell_type": "code",
   "execution_count": 21,
   "metadata": {},
   "outputs": [
    {
     "data": {
      "text/plain": [
       "A 1-dimensional combinatorial polyhedron with 2 facets"
      ]
     },
     "execution_count": 21,
     "metadata": {},
     "output_type": "execute_result"
    }
   ],
   "source": [
    "CombinatorialPolyhedron(Matrix([[0,1], [1,0]]))"
   ]
  },
  {
   "cell_type": "markdown",
   "metadata": {
    "slideshow": {
     "slide_type": "slide"
    }
   },
   "source": [
    "## The $f$-vector\n",
    "\n",
    "Sage has the only memory efficient implementation\n",
    "\n",
    "At least as fast as other implementations\n",
    "\n",
    "Ongoing development (parallelization, some improvements)"
   ]
  },
  {
   "cell_type": "markdown",
   "metadata": {
    "slideshow": {
     "slide_type": "subslide"
    }
   },
   "source": [
    "### Benchmarks (1)"
   ]
  },
  {
   "cell_type": "code",
   "execution_count": 23,
   "metadata": {},
   "outputs": [
    {
     "name": "stdout",
     "output_type": "stream",
     "text": [
      "CPU times: user 2.43 s, sys: 11.9 ms, total: 2.44 s\n",
      "Wall time: 2.43 s\n"
     ]
    },
    {
     "data": {
      "text/plain": [
       "(1, 25, 300, 2300, 12650, 53130, 177100, 480700, 1081575, 2042975, 3268760, 4457400, 5200300, 5200300, 4457400, 3268760, 2042975, 1081575, 480700, 177100, 53130, 12650, 2300, 300, 25, 1)"
      ]
     },
     "execution_count": 23,
     "metadata": {},
     "output_type": "execute_result"
    }
   ],
   "source": [
    "P = polytopes.simplex(24)\n",
    "_ = P.incidence_matrix()\n",
    "%time P.f_vector()"
   ]
  },
  {
   "cell_type": "markdown",
   "metadata": {},
   "source": [
    "- more than 30 GB of RAM with `polymake`\n",
    "- 40 seconds with `normaliz` (8 threads, 4 cores)"
   ]
  },
  {
   "cell_type": "markdown",
   "metadata": {
    "slideshow": {
     "slide_type": "subslide"
    }
   },
   "source": [
    "### Benchmarks (2)"
   ]
  },
  {
   "cell_type": "code",
   "execution_count": 17,
   "metadata": {},
   "outputs": [
    {
     "name": "stdout",
     "output_type": "stream",
     "text": [
      "CPU times: user 22.5 s, sys: 19.5 ms, total: 22.5 s\n",
      "Wall time: 22.5 s\n"
     ]
    },
    {
     "data": {
      "text/plain": [
       "(1, 58786, 293930, 629850, 755820, 556920, 259896, 76440, 13650, 1365, 65, 1)"
      ]
     },
     "execution_count": 17,
     "metadata": {},
     "output_type": "execute_result"
    }
   ],
   "source": [
    "P = polytopes.associahedron(['A', 10] , backend='normaliz')\n",
    "_ = P.incidence_matrix()\n",
    "%time P.f_vector()"
   ]
  },
  {
   "cell_type": "markdown",
   "metadata": {},
   "source": [
    "- 7 hours with `polymake` \n",
    "- 16 seconds with `normaliz` (8 threads on 4 cores).\n",
    "\n",
    "Possible improvements for `sage`:\n",
    "- sorting the vertices by significance (factor of $2$)\n",
    "- goal: 1s"
   ]
  },
  {
   "cell_type": "markdown",
   "metadata": {
    "slideshow": {
     "slide_type": "subslide"
    }
   },
   "source": [
    "### Benchmarks (3)"
   ]
  },
  {
   "cell_type": "code",
   "execution_count": 16,
   "metadata": {},
   "outputs": [
    {
     "name": "stdout",
     "output_type": "stream",
     "text": [
      "CPU times: user 538 ms, sys: 0 ns, total: 538 ms\n",
      "Wall time: 538 ms\n"
     ]
    },
    {
     "data": {
      "text/plain": [
       "(1, 120, 5040, 50250, 233400, 631700, 1113700, 1367040, 1220550, 817150, 419225, 167200, 52120, 12600, 2300, 300, 25, 1)"
      ]
     },
     "execution_count": 16,
     "metadata": {},
     "output_type": "execute_result"
    }
   ],
   "source": [
    "P = polytopes.Birkhoff_polytope(5, backend='normaliz')\n",
    "_ = P.incidence_matrix()\n",
    "%time P.f_vector()"
   ]
  },
  {
   "cell_type": "code",
   "execution_count": 17,
   "metadata": {},
   "outputs": [
    {
     "name": "stdout",
     "output_type": "stream",
     "text": [
      "CPU times: user 51.7 s, sys: 227 ms, total: 52 s\n",
      "Wall time: 16.5 s\n"
     ]
    }
   ],
   "source": [
    "import PyNormaliz\n",
    "c = P._normaliz_cone\n",
    "%time _ = PyNormaliz.NmzResult(c, \"FVector\")"
   ]
  },
  {
   "cell_type": "markdown",
   "metadata": {},
   "source": [
    "- 8 seconds with `normaliz` with 4 cores\n",
    "- 6 minutes with `polymake`"
   ]
  },
  {
   "cell_type": "markdown",
   "metadata": {
    "slideshow": {
     "slide_type": "subslide"
    }
   },
   "source": [
    "### Benchmarks (4)\n",
    "\n",
    "#### $25$-dimensional $6$-Birkhoff:\n",
    "\n",
    "- 45 minutes with `sage`\n",
    "- more than 30 GB RAM with `polymake` or `normaliz`\n",
    "\n",
    "`sage` needs little memory:\n"
   ]
  },
  {
   "cell_type": "code",
   "execution_count": 1,
   "metadata": {},
   "outputs": [
    {
     "name": "stdout",
     "output_type": "stream",
     "text": [
      "Total memory:  48.3828125 \n",
      "Memory of FaceIterator:  15.796875\n"
     ]
    }
   ],
   "source": [
    "start = get_memory_usage()\n",
    "P = polytopes.Birkhoff_polytope(6)\n",
    "_ = P.incidence_matrix()\n",
    "intermediate = get_memory_usage()\n",
    "\n",
    "it = P.face_generator()\n",
    "for _ in range(10000):\n",
    "    a = next(it)\n",
    "end = get_memory_usage()\n",
    "print(\"Total memory: \", end - start, \"\\nMemory of FaceIterator: \", end - intermediate)"
   ]
  },
  {
   "cell_type": "markdown",
   "metadata": {
    "slideshow": {
     "slide_type": "slide"
    }
   },
   "source": [
    "## Vertex graph/facet graph"
   ]
  },
  {
   "cell_type": "code",
   "execution_count": 5,
   "metadata": {},
   "outputs": [
    {
     "name": "stdout",
     "output_type": "stream",
     "text": [
      "CPU times: user 106 ms, sys: 0 ns, total: 106 ms\n",
      "Wall time: 106 ms\n"
     ]
    },
    {
     "data": {
      "text/plain": [
       "Graph on 1024 vertices (use the .plot() method to plot)"
      ]
     },
     "execution_count": 5,
     "metadata": {},
     "output_type": "execute_result"
    }
   ],
   "source": [
    "P = polytopes.hypercube(10)\n",
    "C = P.combinatorial_polyhedron()\n",
    "%time C.vertex_graph(names=False)"
   ]
  },
  {
   "cell_type": "code",
   "execution_count": 6,
   "metadata": {},
   "outputs": [
    {
     "name": "stdout",
     "output_type": "stream",
     "text": [
      "CPU times: user 2.16 ms, sys: 0 ns, total: 2.16 ms\n",
      "Wall time: 2.17 ms\n"
     ]
    },
    {
     "data": {
      "text/plain": [
       "Graph on 21 vertices (use the .plot() method to plot)"
      ]
     },
     "execution_count": 6,
     "metadata": {},
     "output_type": "execute_result"
    }
   ],
   "source": [
    "%time C.facet_graph(names=False)"
   ]
  },
  {
   "cell_type": "markdown",
   "metadata": {},
   "source": [
    "Vertex graph is exposed, but slow (naming vertices of a graph)"
   ]
  },
  {
   "cell_type": "code",
   "execution_count": 7,
   "metadata": {},
   "outputs": [
    {
     "name": "stdout",
     "output_type": "stream",
     "text": [
      "CPU times: user 3.56 s, sys: 3.91 ms, total: 3.57 s\n",
      "Wall time: 3.56 s\n"
     ]
    },
    {
     "data": {
      "text/plain": [
       "Graph on 1024 vertices (use the .plot() method to plot)"
      ]
     },
     "execution_count": 7,
     "metadata": {},
     "output_type": "execute_result"
    }
   ],
   "source": [
    "%time P.vertex_graph()"
   ]
  },
  {
   "cell_type": "markdown",
   "metadata": {
    "slideshow": {
     "slide_type": "slide"
    }
   },
   "source": [
    "## ($n$-)dimensional faces/face iterator\n",
    "\n",
    "Main feature of `CombinatorialPolyhedron`\n",
    "\n",
    "Algorithm: [arXiv:1905.01945](https://arxiv.org/abs/1905.01945)\n",
    "(joint work with Christian Stump)\n",
    "\n",
    "Exposed through `faces`, `face_generator` in `Polyhedron_base`"
   ]
  },
  {
   "cell_type": "code",
   "execution_count": 11,
   "metadata": {},
   "outputs": [
    {
     "name": "stdout",
     "output_type": "stream",
     "text": [
      "CPU times: user 107 µs, sys: 3 µs, total: 110 µs\n",
      "Wall time: 113 µs\n"
     ]
    }
   ],
   "source": [
    "P = polytopes.hypercube(14, backend='field')\n",
    "C = P.combinatorial_polyhedron()\n",
    "it = C.face_iter(dimension=5)\n",
    "%time f = next(it)"
   ]
  },
  {
   "cell_type": "code",
   "execution_count": 15,
   "metadata": {},
   "outputs": [
    {
     "data": {
      "text/plain": [
       "[A 5-dimensional face of a 14-dimensional combinatorial polyhedron,\n",
       " (0, 512, 1024, 1536, 2048),\n",
       " 9,\n",
       " (An inequality (0, 0, 0, 0, 0, 1, 0, 0, 0, 0, 0, 0, 0, 0) x + 1 >= 0,\n",
       "  An inequality (0, 0, 0, 0, 0, 0, 1, 0, 0, 0, 0, 0, 0, 0) x + 1 >= 0)]"
      ]
     },
     "execution_count": 15,
     "metadata": {},
     "output_type": "execute_result"
    }
   ],
   "source": [
    "[f, f.ambient_V_indices()[:5], f.n_ambient_Hrepresentation(), f.ambient_Hrepresentation()[:2]]"
   ]
  },
  {
   "cell_type": "markdown",
   "metadata": {
    "slideshow": {
     "slide_type": "subslide"
    }
   },
   "source": [
    "### All faces"
   ]
  },
  {
   "cell_type": "code",
   "execution_count": 6,
   "metadata": {},
   "outputs": [
    {
     "name": "stdout",
     "output_type": "stream",
     "text": [
      "A 2-dimensional face of a 3-dimensional combinatorial polyhedron\n",
      "A 2-dimensional face of a 3-dimensional combinatorial polyhedron\n",
      "A 2-dimensional face of a 3-dimensional combinatorial polyhedron\n",
      "A 2-dimensional face of a 3-dimensional combinatorial polyhedron\n",
      "A 1-dimensional face of a 3-dimensional combinatorial polyhedron\n",
      "A 1-dimensional face of a 3-dimensional combinatorial polyhedron\n",
      "A 1-dimensional face of a 3-dimensional combinatorial polyhedron\n",
      "A 0-dimensional face of a 3-dimensional combinatorial polyhedron\n",
      "A 0-dimensional face of a 3-dimensional combinatorial polyhedron\n",
      "A 0-dimensional face of a 3-dimensional combinatorial polyhedron\n",
      "A 1-dimensional face of a 3-dimensional combinatorial polyhedron\n",
      "A 1-dimensional face of a 3-dimensional combinatorial polyhedron\n",
      "A 0-dimensional face of a 3-dimensional combinatorial polyhedron\n",
      "A 1-dimensional face of a 3-dimensional combinatorial polyhedron\n"
     ]
    }
   ],
   "source": [
    "C = polytopes.simplex().combinatorial_polyhedron()\n",
    "for i in C.face_iter(): print(i)  # non-dual by default"
   ]
  },
  {
   "cell_type": "code",
   "execution_count": 17,
   "metadata": {
    "slideshow": {
     "slide_type": "subslide"
    }
   },
   "outputs": [
    {
     "data": {
      "text/plain": [
       "[A 0-dimensional face of a 3-dimensional combinatorial polyhedron,\n",
       " A 0-dimensional face of a 3-dimensional combinatorial polyhedron,\n",
       " A 0-dimensional face of a 3-dimensional combinatorial polyhedron,\n",
       " A 0-dimensional face of a 3-dimensional combinatorial polyhedron,\n",
       " A 0-dimensional face of a 3-dimensional combinatorial polyhedron,\n",
       " A 0-dimensional face of a 3-dimensional combinatorial polyhedron,\n",
       " A 1-dimensional face of a 3-dimensional combinatorial polyhedron,\n",
       " A 1-dimensional face of a 3-dimensional combinatorial polyhedron,\n",
       " A 1-dimensional face of a 3-dimensional combinatorial polyhedron,\n",
       " A 1-dimensional face of a 3-dimensional combinatorial polyhedron,\n",
       " A 2-dimensional face of a 3-dimensional combinatorial polyhedron]"
      ]
     },
     "execution_count": 17,
     "metadata": {},
     "output_type": "execute_result"
    }
   ],
   "source": [
    "C = polytopes.cross_polytope(3).combinatorial_polyhedron()\n",
    "it = C.face_iter()  # dual mode by default\n",
    "[next(it) for _ in range(11)]"
   ]
  },
  {
   "cell_type": "markdown",
   "metadata": {
    "slideshow": {
     "slide_type": "subslide"
    }
   },
   "source": [
    "### Variations\n",
    "\n",
    "#### Specify dual/non-dual"
   ]
  },
  {
   "cell_type": "code",
   "execution_count": 18,
   "metadata": {},
   "outputs": [
    {
     "data": {
      "text/plain": [
       "[A 2-dimensional face of a 3-dimensional combinatorial polyhedron,\n",
       " A 2-dimensional face of a 3-dimensional combinatorial polyhedron,\n",
       " A 2-dimensional face of a 3-dimensional combinatorial polyhedron,\n",
       " A 2-dimensional face of a 3-dimensional combinatorial polyhedron,\n",
       " A 2-dimensional face of a 3-dimensional combinatorial polyhedron,\n",
       " A 2-dimensional face of a 3-dimensional combinatorial polyhedron,\n",
       " A 2-dimensional face of a 3-dimensional combinatorial polyhedron,\n",
       " A 2-dimensional face of a 3-dimensional combinatorial polyhedron,\n",
       " A 1-dimensional face of a 3-dimensional combinatorial polyhedron,\n",
       " A 1-dimensional face of a 3-dimensional combinatorial polyhedron]"
      ]
     },
     "execution_count": 18,
     "metadata": {},
     "output_type": "execute_result"
    }
   ],
   "source": [
    "C = polytopes.cross_polytope(3).combinatorial_polyhedron()\n",
    "it = C.face_iter(dual=False)\n",
    "[next(it) for _ in range(10)]"
   ]
  },
  {
   "cell_type": "markdown",
   "metadata": {},
   "source": [
    "#### Specify face dimension"
   ]
  },
  {
   "cell_type": "code",
   "execution_count": 20,
   "metadata": {},
   "outputs": [
    {
     "data": {
      "text/plain": [
       "Iterator over the 2-faces of a 3-dimensional combinatorial polyhedron"
      ]
     },
     "execution_count": 20,
     "metadata": {},
     "output_type": "execute_result"
    }
   ],
   "source": [
    "C.face_iter(2)"
   ]
  },
  {
   "cell_type": "markdown",
   "metadata": {
    "slideshow": {
     "slide_type": "subslide"
    }
   },
   "source": [
    "#### Ignore subfaces/supfaces\n",
    "\n",
    "Save time by ignoring subfaces (supfaces in dual mode) of current face\n",
    "\n",
    "Demonstration with details on [ask.sagemath.org/question/34485](https://ask.sagemath.org/question/34485/what-is-the-most-efficient-way-to-look-up-a-face-in-the-face-lattice-of-a-polyhedron/?answer=50965#post-id-50965)"
   ]
  },
  {
   "cell_type": "markdown",
   "metadata": {
    "slideshow": {
     "slide_type": "slide"
    }
   },
   "source": [
    "## Simplicity/simpliciality\n",
    "\n",
    "A polyhedron is $k$-simplicial if every $k$-face is a simplex.\n",
    "A polyhedron is $k$-simple, if its dual is $k$-simplicial."
   ]
  },
  {
   "cell_type": "code",
   "execution_count": 16,
   "metadata": {},
   "outputs": [
    {
     "name": "stdout",
     "output_type": "stream",
     "text": [
      "CPU times: user 126 ms, sys: 17 µs, total: 126 ms\n",
      "Wall time: 126 ms\n"
     ]
    },
    {
     "data": {
      "text/plain": [
       "2"
      ]
     },
     "execution_count": 16,
     "metadata": {},
     "output_type": "execute_result"
    }
   ],
   "source": [
    "P = polytopes.hypersimplex(12,5)\n",
    "%time P.simpliciality()"
   ]
  },
  {
   "cell_type": "code",
   "execution_count": 17,
   "metadata": {},
   "outputs": [
    {
     "name": "stdout",
     "output_type": "stream",
     "text": [
      "CPU times: user 130 ms, sys: 0 ns, total: 130 ms\n",
      "Wall time: 130 ms\n"
     ]
    },
    {
     "data": {
      "text/plain": [
       "9"
      ]
     },
     "execution_count": 17,
     "metadata": {},
     "output_type": "execute_result"
    }
   ],
   "source": [
    "P = polytopes.hypersimplex(12,5)\n",
    "%time P.simplicity()"
   ]
  },
  {
   "cell_type": "markdown",
   "metadata": {
    "slideshow": {
     "slide_type": "slide"
    }
   },
   "source": [
    "## Face lattice and flag-$f$-vector"
   ]
  },
  {
   "cell_type": "code",
   "execution_count": 4,
   "metadata": {},
   "outputs": [
    {
     "name": "stdout",
     "output_type": "stream",
     "text": [
      "CPU times: user 4.87 s, sys: 32 ms, total: 4.91 s\n",
      "Wall time: 4.9 s\n"
     ]
    }
   ],
   "source": [
    "C = polytopes.permutahedron(7).combinatorial_polyhedron()\n",
    "%time a = C.face_lattice()"
   ]
  },
  {
   "cell_type": "markdown",
   "metadata": {},
   "source": [
    "Used for the flag-$f$-vector:"
   ]
  },
  {
   "cell_type": "code",
   "execution_count": 22,
   "metadata": {},
   "outputs": [
    {
     "data": {
      "text/plain": [
       "64"
      ]
     },
     "execution_count": 22,
     "metadata": {},
     "output_type": "execute_result"
    }
   ],
   "source": [
    "polytopes.hypercube(4).flag_f_vector(0,3)"
   ]
  },
  {
   "cell_type": "markdown",
   "metadata": {
    "slideshow": {
     "slide_type": "slide"
    }
   },
   "source": [
    "## Outlook on the development of Polyhedra\n",
    "\n",
    "### Polytopal construction respect the backend (done)"
   ]
  },
  {
   "cell_type": "code",
   "execution_count": 24,
   "metadata": {},
   "outputs": [
    {
     "data": {
      "text/plain": [
       "'cdd'"
      ]
     },
     "execution_count": 24,
     "metadata": {},
     "output_type": "execute_result"
    }
   ],
   "source": [
    "polytopes.cube(backend='cdd').polar().backend()"
   ]
  },
  {
   "cell_type": "markdown",
   "metadata": {},
   "source": [
    "### Move combinatorial methods to `CombinatorialPolyhedron` (on-going)\n",
    "\n",
    "### Add polytopal constructions to `CombinatorialPolyhedron` (on-going)\n",
    "\n",
    "### Parallel and improved $f$-vector (on-going)\n",
    "\n",
    "### Lazy double description (future)"
   ]
  },
  {
   "cell_type": "markdown",
   "metadata": {
    "slideshow": {
     "slide_type": "subslide"
    }
   },
   "source": [
    "### Precomputed data (on-going)\n",
    "\n",
    "- backends:\n",
    "  - `field` (done),\n",
    "  - `normaliz` (almost done),\n",
    "  - `polymake` (future)\n",
    "- library:\n",
    "    - hypercube\n",
    "    - crosspolytope\n",
    "    - ...\n",
    "- constructions\n",
    "  - dilation\n",
    "  - translation\n",
    "  - polar (`sage` 9.2)\n",
    "  - ..."
   ]
  },
  {
   "cell_type": "code",
   "execution_count": 59,
   "metadata": {
    "slideshow": {
     "slide_type": "subslide"
    }
   },
   "outputs": [
    {
     "name": "stdout",
     "output_type": "stream",
     "text": [
      "CPU times: user 510 ms, sys: 123 µs, total: 510 ms\n",
      "Wall time: 509 ms\n",
      "CPU times: user 197 ms, sys: 0 ns, total: 197 ms\n",
      "Wall time: 197 ms\n"
     ]
    }
   ],
   "source": [
    "%time _ = polytopes.hypercube(14, backend='ppl')    # uses Hrepresentation now  # was > 2s\n",
    "%time _ = polytopes.hypercube(14, backend='field')  # precomputed"
   ]
  },
  {
   "cell_type": "markdown",
   "metadata": {},
   "source": [
    "Pick the best way to compute the dilation:"
   ]
  },
  {
   "cell_type": "code",
   "execution_count": 5,
   "metadata": {},
   "outputs": [
    {
     "name": "stdout",
     "output_type": "stream",
     "text": [
      "CPU times: user 505 ms, sys: 0 ns, total: 505 ms\n",
      "Wall time: 505 ms\n",
      "CPU times: user 967 ms, sys: 0 ns, total: 967 ms\n",
      "Wall time: 967 ms\n"
     ]
    }
   ],
   "source": [
    "P = polytopes.hypercube(14, backend='ppl')\n",
    "%time _ = 2*P  # picks Hrepresentation  # was > 2s\n",
    "P = polytopes.cross_polytope(14, backend='ppl') \n",
    "%time _ = 2*P  # picks Vrepresentation"
   ]
  },
  {
   "cell_type": "code",
   "execution_count": 19,
   "metadata": {
    "slideshow": {
     "slide_type": "subslide"
    }
   },
   "outputs": [
    {
     "name": "stdout",
     "output_type": "stream",
     "text": [
      "CPU times: user 977 ms, sys: 65.5 ms, total: 1.04 s\n",
      "Wall time: 483 ms\n",
      "CPU times: user 297 ms, sys: 16.6 ms, total: 314 ms\n",
      "Wall time: 182 ms\n"
     ]
    }
   ],
   "source": [
    "%time P = polytopes.one_hundred_twenty_cell(backend='normaliz')  # set up with Vrepresentation\n",
    "%time _ = P + P.center()                                         # set up with Hrepresentation"
   ]
  },
  {
   "cell_type": "code",
   "execution_count": 13,
   "metadata": {},
   "outputs": [
    {
     "name": "stdout",
     "output_type": "stream",
     "text": [
      "CPU times: user 31 µs, sys: 0 ns, total: 31 µs\n",
      "Wall time: 36.5 µs\n",
      "CPU times: user 15.3 ms, sys: 0 ns, total: 15.3 ms\n",
      "Wall time: 15.4 ms\n"
     ]
    }
   ],
   "source": [
    "%time P = P.base_extend(base_ring=P.base_ring(), backend='field')  # changing backend to field in no time\n",
    "%time _ = P + P.center()  # only trivial computation"
   ]
  },
  {
   "cell_type": "markdown",
   "metadata": {
    "slideshow": {
     "slide_type": "slide"
    }
   },
   "source": [
    "## User input wanted\n",
    "\n",
    "- Any questions?\n",
    "- What is missing?\n",
    "- What is difficult to use?\n",
    "- What is too slow?\n",
    "\n",
    "### Give your input now or in one of the following ways:\n",
    "\n",
    "- modify [trac.sagemath.org/wiki/SagePolyhedralGeometry](https://trac.sagemath.org/wiki/SagePolyhedralGeometry) (optionally open a trac ticket)\n",
    "- post on [groups.google.com/forum/#!forum/sage-devel](https://groups.google.com/forum/#!forum/sage-devel)\n",
    "- ask on [ask.sagemath.org](https://ask.sagemath.org)"
   ]
  },
  {
   "cell_type": "code",
   "execution_count": null,
   "metadata": {},
   "outputs": [],
   "source": []
  }
 ],
 "metadata": {
  "celltoolbar": "Slideshow",
  "kernelspec": {
   "display_name": "SageMath 9.1",
   "language": "sage",
   "name": "sagemath"
  },
  "language_info": {
   "codemirror_mode": {
    "name": "ipython",
    "version": 3
   },
   "file_extension": ".py",
   "mimetype": "text/x-python",
   "name": "python",
   "nbconvert_exporter": "python",
   "pygments_lexer": "ipython3",
   "version": "3.7.3"
  }
 },
 "nbformat": 4,
 "nbformat_minor": 2
}
